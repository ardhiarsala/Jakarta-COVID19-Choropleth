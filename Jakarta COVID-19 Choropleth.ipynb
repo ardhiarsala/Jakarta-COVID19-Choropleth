{
    "cells": [
        {
            "cell_type": "code",
            "execution_count": 2,
            "source": [
                "import pandas as pd\r\n",
                "import plotly.express as px\r\n",
                "import plotly"
            ],
            "outputs": [],
            "metadata": {}
        },
        {
            "cell_type": "code",
            "execution_count": 3,
            "source": [
                "df = pd.read_csv('Jakarta COVID-19 Cases Kecamatan (25-Mar-20 to 03-Aug-21).csv')\r\n",
                "df.head()"
            ],
            "outputs": [
                {
                    "output_type": "execute_result",
                    "data": {
                        "text/plain": [
                            "   period          kecamatan        date  positive  hospitalized  recovered  \\\n",
                            "0       1             GAMBIR  25/03/2020         1             1          0   \n",
                            "1       1  GROGOL PETAMBURAN  25/03/2020        16            14          0   \n",
                            "2       1          JAGAKARSA  25/03/2020         8             4          0   \n",
                            "3       1         JATINEGARA  25/03/2020         2             2          0   \n",
                            "4       1         JOHAR BARU  25/03/2020         5             1          1   \n",
                            "\n",
                            "   selfisolation  \n",
                            "0              0  \n",
                            "1              2  \n",
                            "2              3  \n",
                            "3              0  \n",
                            "4              2  "
                        ],
                        "text/html": [
                            "<div>\n",
                            "<style scoped>\n",
                            "    .dataframe tbody tr th:only-of-type {\n",
                            "        vertical-align: middle;\n",
                            "    }\n",
                            "\n",
                            "    .dataframe tbody tr th {\n",
                            "        vertical-align: top;\n",
                            "    }\n",
                            "\n",
                            "    .dataframe thead th {\n",
                            "        text-align: right;\n",
                            "    }\n",
                            "</style>\n",
                            "<table border=\"1\" class=\"dataframe\">\n",
                            "  <thead>\n",
                            "    <tr style=\"text-align: right;\">\n",
                            "      <th></th>\n",
                            "      <th>period</th>\n",
                            "      <th>kecamatan</th>\n",
                            "      <th>date</th>\n",
                            "      <th>positive</th>\n",
                            "      <th>hospitalized</th>\n",
                            "      <th>recovered</th>\n",
                            "      <th>selfisolation</th>\n",
                            "    </tr>\n",
                            "  </thead>\n",
                            "  <tbody>\n",
                            "    <tr>\n",
                            "      <th>0</th>\n",
                            "      <td>1</td>\n",
                            "      <td>GAMBIR</td>\n",
                            "      <td>25/03/2020</td>\n",
                            "      <td>1</td>\n",
                            "      <td>1</td>\n",
                            "      <td>0</td>\n",
                            "      <td>0</td>\n",
                            "    </tr>\n",
                            "    <tr>\n",
                            "      <th>1</th>\n",
                            "      <td>1</td>\n",
                            "      <td>GROGOL PETAMBURAN</td>\n",
                            "      <td>25/03/2020</td>\n",
                            "      <td>16</td>\n",
                            "      <td>14</td>\n",
                            "      <td>0</td>\n",
                            "      <td>2</td>\n",
                            "    </tr>\n",
                            "    <tr>\n",
                            "      <th>2</th>\n",
                            "      <td>1</td>\n",
                            "      <td>JAGAKARSA</td>\n",
                            "      <td>25/03/2020</td>\n",
                            "      <td>8</td>\n",
                            "      <td>4</td>\n",
                            "      <td>0</td>\n",
                            "      <td>3</td>\n",
                            "    </tr>\n",
                            "    <tr>\n",
                            "      <th>3</th>\n",
                            "      <td>1</td>\n",
                            "      <td>JATINEGARA</td>\n",
                            "      <td>25/03/2020</td>\n",
                            "      <td>2</td>\n",
                            "      <td>2</td>\n",
                            "      <td>0</td>\n",
                            "      <td>0</td>\n",
                            "    </tr>\n",
                            "    <tr>\n",
                            "      <th>4</th>\n",
                            "      <td>1</td>\n",
                            "      <td>JOHAR BARU</td>\n",
                            "      <td>25/03/2020</td>\n",
                            "      <td>5</td>\n",
                            "      <td>1</td>\n",
                            "      <td>1</td>\n",
                            "      <td>2</td>\n",
                            "    </tr>\n",
                            "  </tbody>\n",
                            "</table>\n",
                            "</div>"
                        ]
                    },
                    "metadata": {},
                    "execution_count": 3
                }
            ],
            "metadata": {}
        },
        {
            "cell_type": "code",
            "execution_count": 5,
            "source": [
                "fig=px.choropleth(df,\r\n",
                "             geojson=\"https://gist.githubusercontent.com/ardhiarsala/ae602b0b3940b70b6efd0e0867e56b7e/raw/e50092ecd2d6cac4a63d6dfd42b75bf8fa060641/Jakartadistricts.geojson\",\r\n",
                "             featureidkey='properties.kec_up',   \r\n",
                "             locations='kecamatan',        #column in dataframe\r\n",
                "              animation_frame='date',       #dataframe\r\n",
                "              color='positive',  #dataframe\r\n",
                "              color_continuous_scale='ice_r',\r\n",
                "               title='DKI Jakarta Cumulative COVID-19 Cases per Kecamatan' ,  \r\n",
                "               height=700\r\n",
                "              )\r\n",
                "fig.update_geos(fitbounds=\"locations\", visible=False)\r\n",
                "plotly.offline.plot(fig,filename='choropleth.html')"
            ],
            "outputs": [
                {
                    "output_type": "execute_result",
                    "data": {
                        "text/plain": [
                            "'choropleth.html'"
                        ]
                    },
                    "metadata": {},
                    "execution_count": 5
                }
            ],
            "metadata": {}
        }
    ],
    "metadata": {
        "orig_nbformat": 4,
        "language_info": {
            "name": "python",
            "version": "3.9.5",
            "mimetype": "text/x-python",
            "codemirror_mode": {
                "name": "ipython",
                "version": 3
            },
            "pygments_lexer": "ipython3",
            "nbconvert_exporter": "python",
            "file_extension": ".py"
        },
        "kernelspec": {
            "name": "python3",
            "display_name": "Python 3.9.5 64-bit"
        },
        "interpreter": {
            "hash": "63fd5069d213b44bf678585dea6b12cceca9941eaf7f819626cde1f2670de90d"
        }
    },
    "nbformat": 4,
    "nbformat_minor": 2
}